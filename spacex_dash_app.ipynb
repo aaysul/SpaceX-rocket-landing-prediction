{
 "cells": [
  {
   "cell_type": "code",
   "execution_count": 1,
   "id": "a3cfb8c4",
   "metadata": {},
   "outputs": [],
   "source": [
    "# !pip3 install pandas dash"
   ]
  },
  {
   "cell_type": "code",
   "execution_count": 2,
   "id": "93bc75ad",
   "metadata": {},
   "outputs": [],
   "source": [
    "import pandas as pd\n",
    "import dash\n",
    "import dash_html_components as html\n",
    "import dash_core_components as dcc\n",
    "from dash.dependencies import Input, Output\n",
    "import plotly.express as px"
   ]
  },
  {
   "cell_type": "code",
   "execution_count": 3,
   "id": "84044291",
   "metadata": {},
   "outputs": [],
   "source": [
    "# spacex_df = pd.read_csv(\"https://cf-courses-data.s3.us.cloud-object-storage.appdomain.cloud/IBM-DS0321EN-SkillsNetwork/datasets/spacex_launch_dash.csv\")\n",
    "spacex_df = pd.read_csv(\"spacex_launch_dash.csv\")"
   ]
  },
  {
   "cell_type": "code",
   "execution_count": 4,
   "id": "9395bb16",
   "metadata": {},
   "outputs": [],
   "source": [
    "max_payload = spacex_df['Payload Mass (kg)'].max()\n",
    "min_payload = spacex_df['Payload Mass (kg)'].min()"
   ]
  },
  {
   "cell_type": "code",
   "execution_count": null,
   "id": "410bac97",
   "metadata": {},
   "outputs": [
    {
     "name": "stdout",
     "output_type": "stream",
     "text": [
      "Dash is running on http://127.0.0.1:8050/\n",
      "\n",
      " * Serving Flask app \"__main__\" (lazy loading)\n",
      " * Environment: production\n",
      "\u001b[31m   WARNING: This is a development server. Do not use it in a production deployment.\u001b[0m\n",
      "\u001b[2m   Use a production WSGI server instead.\u001b[0m\n",
      " * Debug mode: off\n"
     ]
    },
    {
     "name": "stderr",
     "output_type": "stream",
     "text": [
      " * Running on http://127.0.0.1:8050/ (Press CTRL+C to quit)\n",
      "127.0.0.1 - - [28/Aug/2022 23:22:45] \"GET / HTTP/1.1\" 200 -\n",
      "127.0.0.1 - - [28/Aug/2022 23:22:46] \"GET /_dash-layout HTTP/1.1\" 200 -\n",
      "127.0.0.1 - - [28/Aug/2022 23:22:46] \"GET /_dash-dependencies HTTP/1.1\" 200 -\n",
      "127.0.0.1 - - [28/Aug/2022 23:22:46] \"GET /_favicon.ico?v=1.19.0 HTTP/1.1\" 200 -\n",
      "127.0.0.1 - - [28/Aug/2022 23:22:49] \"POST /_dash-update-component HTTP/1.1\" 200 -\n",
      "127.0.0.1 - - [28/Aug/2022 23:22:50] \"POST /_dash-update-component HTTP/1.1\" 200 -\n"
     ]
    }
   ],
   "source": [
    "# Create a dash application\n",
    "app = dash.Dash(__name__)\n",
    "\n",
    "# Create an app layout\n",
    "app.layout = html.Div(children = [html.H1('Applied Data Science Capstone - Afnan Ahmed Yaqub',\n",
    "                                          style = {'textAlign': 'center', 'color': '#503D36',\n",
    "                                                   'font-size': 30}),\n",
    "                                  html.H2('SpaceX Launch Records Dashboard',\n",
    "                                          style = {'textAlign': 'center', 'color': '#503D36',\n",
    "                                                   'font-size': 40}), \n",
    "                                  \n",
    "                                  # TASK 1: Add a dropdown list to enable Launch Site selection\n",
    "                                  # The default select value is for ALL sites\n",
    "                                  \n",
    "                                  dcc.Dropdown(id = 'site-dropdown',\n",
    "                                               options = [{'label': 'All Sites', 'value': 'ALL'},\n",
    "                                                          {'label': 'CCAFS LC-40', 'value': 'CCAFS LC-40'},\n",
    "                                                          {'label': 'VAFB SLC-4E', 'value': 'VAFB SLC-4E'},\n",
    "                                                          {'label': 'KSC LC-39A', 'value': 'KSC LC-39A'},\n",
    "                                                          {'label': 'CCAFS SLC-40', 'value': 'CCAFS SLC-40'}\n",
    "                                                          ],\n",
    "                                               value = 'ALL',\n",
    "                                               placeholder = 'Select a Launch Site here',\n",
    "                                               searchable = True\n",
    "                                               ),\n",
    "                                  html.Br(),\n",
    "                                  \n",
    "                                  # TASK 2: Add a pie chart to show the total successful launches count for all sites\n",
    "                                  # If a specific launch site was selected, show the Success vs. Failed counts for the site\n",
    "                                  \n",
    "                                  html.Div(dcc.Graph(id = 'success-pie-chart')),\n",
    "                                  html.Br(),\n",
    "                                  html.P(\"Payload range (Kg):\"),\n",
    "                                  \n",
    "                                  # TASK 3: Add a slider to select payload range\n",
    "                                  \n",
    "                                  dcc.RangeSlider(id = 'payload-slider',\n",
    "                                                  min = 0,\n",
    "                                                  max = 10000,\n",
    "                                                  step = 1000,\n",
    "                                                  marks = {0: '0',\n",
    "                                                           2500: '2500',\n",
    "                                                           5000: '5000',\n",
    "                                                           7500: '7500',\n",
    "                                                           10000: '10000'},\n",
    "                                                  value = [min_payload, \n",
    "                                                           max_payload]\n",
    "                                                  ),\n",
    "                                  \n",
    "                                  # TASK 4: Add a scatter chart to show the correlation between payload and launch success\n",
    "\n",
    "                                  html.Div(dcc.Graph(id = 'success-payload-scatter-chart')),\n",
    "                                  ])\n",
    "\n",
    "# TASK 2:\n",
    "# Add a callback function for `site-dropdown` as input, `success-pie-chart` as output\n",
    "\n",
    "@app.callback(Output(component_id = 'success-pie-chart', component_property = 'figure'),\n",
    "              Input(component_id = 'site-dropdown', component_property = 'value'))\n",
    "\n",
    "def get_pie_chart(entered_site):\n",
    "    filtered_df = spacex_df\n",
    "    if entered_site == 'ALL':\n",
    "        fig = px.pie(filtered_df, \n",
    "                     values = 'class',\n",
    "                     names = 'Launch Site',\n",
    "                     title = 'Success Count for All Launch Sites')\n",
    "        return fig\n",
    "    else:\n",
    "        # return the outcomes piechart for a selected site\n",
    "        filtered_df = spacex_df[spacex_df['Launch Site'] == entered_site]\n",
    "        filtered_df = filtered_df.groupby(['Launch Site', 'class']).size().reset_index(name = 'Success Count')\n",
    "        fig = px.pie(filtered_df,\n",
    "                     values = 'Success Count',\n",
    "                     names = 'class',\n",
    "                     title = f\"Success / Failure for {entered_site}\")\n",
    "        return fig\n",
    "    \n",
    "# TASK 4:\n",
    "# Add a callback function for `site-dropdown` and `payload-slider` as inputs, `success-payload-scatter-chart` as output\n",
    "\n",
    "@app.callback(Output(component_id = 'success-payload-scatter-chart', component_property = 'figure'),\n",
    "                [Input(component_id = 'site-dropdown', component_property = 'value'),\n",
    "                Input(component_id = 'payload-slider', component_property = 'value')])\n",
    "\n",
    "def scatter(entered_site,payload):\n",
    "    filtered_df = spacex_df[spacex_df['Payload Mass (kg)'].between(payload[0],payload[1])]    \n",
    "    if entered_site == 'ALL':\n",
    "        fig=px.scatter(filtered_df,\n",
    "                       x = 'Payload Mass (kg)',\n",
    "                       y = 'class',\n",
    "                       color = 'Booster Version',\n",
    "                       title = 'Success / Failure vs Payload mass for all sites')\n",
    "        return fig\n",
    "    else:\n",
    "        fig=px.scatter(filtered_df[filtered_df['Launch Site'] == entered_site],\n",
    "                       x = 'Payload Mass (kg)',\n",
    "                       y = 'class',\n",
    "                       color = 'Booster Version',\n",
    "                       title = f\"Success / Failure vs Payload mass for {entered_site}\")\n",
    "        return fig\n",
    "    \n",
    "# Run the app\n",
    "if __name__ == '__main__':\n",
    "    app.run_server()"
   ]
  }
 ],
 "metadata": {
  "kernelspec": {
   "display_name": "Python 3 (ipykernel)",
   "language": "python",
   "name": "python3"
  },
  "language_info": {
   "codemirror_mode": {
    "name": "ipython",
    "version": 3
   },
   "file_extension": ".py",
   "mimetype": "text/x-python",
   "name": "python",
   "nbconvert_exporter": "python",
   "pygments_lexer": "ipython3",
   "version": "3.9.7"
  }
 },
 "nbformat": 4,
 "nbformat_minor": 5
}
